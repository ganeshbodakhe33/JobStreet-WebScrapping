{
 "cells": [
  {
   "cell_type": "code",
   "execution_count": 2,
   "id": "e5488350",
   "metadata": {},
   "outputs": [],
   "source": [
    "# Ganesh bodakhe\n",
    "# Problem Statement : Scrape The Data From JobStreet And Naukri.com. \n",
    "# Save the jobs info in csv files. You will create one csv file for JobStreet and one for Naukri.com."
   ]
  },
  {
   "cell_type": "code",
   "execution_count": 5,
   "id": "68ca2e7f",
   "metadata": {},
   "outputs": [],
   "source": [
    "# I.) Scrape The Data From JobStreet\n",
    "import pandas as pd\n",
    "import numpy as np\n",
    "import time\n",
    "import requests\n",
    "import selenium\n",
    "from selenium import webdriver\n",
    "import warnings\n",
    "warnings.filterwarnings('ignore')\n",
    "from bs4 import BeautifulSoup\n",
    "\n",
    "def getUrl(key):\n",
    "    key = key.replace(' ','-')\n",
    "    temp = 'https://www.jobstreet.com.my/{}-jobs'\n",
    "    url = temp.format(key)\n",
    "    return url\n",
    "\n",
    "def find_job(card):\n",
    "    # Fetching job_name\n",
    "    try:\n",
    "        job_name = card.find('h3','_1wkzzau0 a1msqi4y lnocuo0 lnocuol _1d0g9qk4 lnocuov lnocuo21').text\n",
    "    except:\n",
    "        job_name = 'Not Mentioned'\n",
    "        \n",
    "    # Fetching company_name\n",
    "    try:\n",
    "        company_name = card.find('span','_1wkzzau0 a1msqi4y lnocuo0 lnocuo1 lnocuo21 _1d0g9qk4 lnocuoa').find('a').text\n",
    "    except:\n",
    "        company_name = 'Not Mentioned'\n",
    "\n",
    "    # Fetching company_location\n",
    "    try:\n",
    "        company_location = card.find('span','_1wkzzau0 a1msqi4y lnocuo0 lnocuo1 lnocuo21 _1d0g9qk4 lnocuo7').text\n",
    "    except:\n",
    "        company_location = 'Not Mentioned'\n",
    "        \n",
    "    # Fetching salary\n",
    "    try:\n",
    "        salary = card.find('span','_1wkzzau0 _16v7pfz1 a1msqi4y a1msqi0 a1msqir _16v7pfz3').text\n",
    "    except:\n",
    "        salary = 'Not Mentioned'\n",
    "    \n",
    "    # Fetching job_description\n",
    "    try:\n",
    "        job_description = card.find('ul','_1wkzzau0 _1wkzzau3 szurmz0 szurmz4').text\n",
    "    except:\n",
    "        job_description = 'Not Mentioned'\n",
    "        \n",
    "    \n",
    "    # Fetching job_apply_url\n",
    "    try:\n",
    "        job_apply_url = card.find('h3','_1wkzzau0 a1msqi4y lnocuo0 lnocuol _1d0g9qk4 lnocuov lnocuo21').find('a')\n",
    "        job_apply_url = 'https://www.jobstreet.com.my' + job_apply_url['href']\n",
    "    except:\n",
    "        job_apply_url = 'Not Mentioned'\n",
    "    \n",
    "    all_job_detail = (job_name,company_name,company_location,salary,job_description,job_apply_url)\n",
    "    return all_job_detail\n",
    "\n",
    "def main(key):\n",
    "    all_jobs = []\n",
    "    url = getUrl(key)\n",
    "    res = requests.get(url)\n",
    "    soup = BeautifulSoup(res.content,'html.parser')\n",
    "    all_divs = soup.find_all('article','_1wkzzau0 _1wkzzau1 a1msqi7i a1msqi6e a1msqi9q a1msqi8m a1msqi66 a1msqih a1msqi5e uo6mkb a1msqi4i a1msqi4b lnocuo18 lnocuo1b a1msqi32 a1msqi35')\n",
    "    for i in all_divs:\n",
    "        temp = find_job(i)\n",
    "        all_jobs.append(temp)\n",
    "    col = ['job_name','company_name','company_location','salary','job_description','job_apply_url']\n",
    "    jobstreet_jobs_data = pd.DataFrame(all_jobs,columns = col)\n",
    "    jobstreet_jobs_data.to_csv('D:\\\\Acadamics\\\\Internship\\\\iGurus\\\\Projects\\\\Naukari_JobStreet_webscrapping\\\\jobstreet_jobs_data.csv',encoding='utf-8')"
   ]
  },
  {
   "cell_type": "code",
   "execution_count": 6,
   "id": "08d5c536",
   "metadata": {},
   "outputs": [],
   "source": [
    "main('fullstack')"
   ]
  }
 ],
 "metadata": {
  "kernelspec": {
   "display_name": "Python 3 (ipykernel)",
   "language": "python",
   "name": "python3"
  },
  "language_info": {
   "codemirror_mode": {
    "name": "ipython",
    "version": 3
   },
   "file_extension": ".py",
   "mimetype": "text/x-python",
   "name": "python",
   "nbconvert_exporter": "python",
   "pygments_lexer": "ipython3",
   "version": "3.11.5"
  }
 },
 "nbformat": 4,
 "nbformat_minor": 5
}
